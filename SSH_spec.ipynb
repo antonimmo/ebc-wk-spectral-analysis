{
 "cells": [
  {
   "cell_type": "code",
   "execution_count": null,
   "id": "167e28ac-223b-4c06-820b-15e7d0637ce9",
   "metadata": {},
   "outputs": [],
   "source": [
    "from os import getenv"
   ]
  },
  {
   "cell_type": "code",
   "execution_count": null,
   "id": "d67b4a6b-371d-42cc-b66a-77d8d9c8898c",
   "metadata": {},
   "outputs": [
    {
     "data": {
      "text/plain": [
       "'. /home/ant/miniconda3/envs/thesis/share/fer_dsets/data /home/ant/miniconda3/envs/thesis/go /home/ant/miniconda3/envs/thesis/examples /home/ant/ferret/data'"
      ]
     },
     "execution_count": 2,
     "metadata": {},
     "output_type": "execute_result"
    }
   ],
   "source": [
    "getenv('FER_DATA')"
   ]
  },
  {
   "cell_type": "code",
   "execution_count": null,
   "id": "deb556f5-0ac0-4856-b2bc-c91d8ce78c0d",
   "metadata": {},
   "outputs": [
    {
     "name": "stdout",
     "output_type": "stream",
     "text": [
      "The ferretmagic extension is already loaded. To reload it, use:\n",
      "  %reload_ext ferretmagic\n"
     ]
    }
   ],
   "source": [
    "%load_ext ferretmagic"
   ]
  },
  {
   "cell_type": "code",
   "execution_count": null,
   "id": "59d147f1-0596-42cd-a4c1-f1eedd554288",
   "metadata": {},
   "outputs": [
    {
     "name": "stderr",
     "output_type": "stream",
     "text": [
      "           *** NOTE: Units on axis \"meas_ind\" are not recognized: count\n",
      "           *** NOTE: They will not be convertible:\n",
      "           *** NOTE: Units on axis \"wvf_ind\" are not recognized: count\n",
      "           *** NOTE: They will not be convertible:\n",
      "           *** NOTE:\n",
      "           *** NOTE: Could not adjust grid for variable time_20hz\n",
      " **ERROR: inconsistent data grids: File needs axis attributes on coordinate variables indicating correct directions\n"
     ]
    },
    {
     "data": {
      "text/html": [
       "<pre style=\"background-color:#F79F81; border-radius: 4px 4px 4px 4px; font-size: smaller\">yes? ENSEMBLE/title=\"test ensemble\" threefiles=file_list\n",
       "**ERROR: inconsistent data grids: File needs axis attributes on coordinate variables indicating correct directions </pre>"
      ]
     },
     "metadata": {},
     "output_type": "display_data"
    }
   ],
   "source": [
    "%%ferret\n",
    "let file_list = SPAWN(\"ls -1 /home/ant/ferret/data/12644/DA_TC_JASON2_GDR/JA2_GPS_2PdP132_254*.nc\")\n",
    "ENSEMBLE/title=\"test ensemble\" threefiles=file_list\n",
    "SHOW DATA"
   ]
  },
  {
   "cell_type": "code",
   "execution_count": null,
   "id": "43ab6b76-bf95-4698-be12-192152b1263b",
   "metadata": {},
   "outputs": [],
   "source": []
  },
  {
   "cell_type": "code",
   "execution_count": null,
   "id": "fc4e99c1-1526-46b0-b70a-238f99d425ca",
   "metadata": {},
   "outputs": [
    {
     "name": "stderr",
     "output_type": "stream",
     "text": [
      " **ERROR: dimensions improperly specified: must be a 2D region\n",
      "          CONTOUR SSHA\n"
     ]
    },
    {
     "data": {
      "text/html": [
       "<pre style=\"background-color:#F79F81; border-radius: 4px 4px 4px 4px; font-size: smaller\">yes? CONTOUR SSHA\n",
       "**ERROR: dimensions improperly specified: must be a 2D region <br />CONTOUR SSHA </pre>"
      ]
     },
     "metadata": {},
     "output_type": "display_data"
    }
   ],
   "source": [
    "%%ferret\n",
    "USE JA2_GPR_2PdP165_020_20121224_230621_20121225_000234\n",
    "!SHOW DATA JA2_GPR_2PdP165_020_20121224_230621_20121225_000234\n",
    "!SHOW GRID/L=1 SSHA\n",
    "!LIST SSHA + LAT[G=SSHA]\n",
    "!PLOT LAT\n",
    "!PLOT LON\n",
    "!PLOT SSHA\n",
    "CONTOUR SSHA"
   ]
  },
  {
   "cell_type": "code",
   "execution_count": null,
   "id": "50c0188f-e0ad-4f57-8f3c-b02df1aaed0c",
   "metadata": {},
   "outputs": [],
   "source": [
    "####"
   ]
  },
  {
   "cell_type": "code",
   "execution_count": null,
   "id": "28a41028-639c-4f57-9825-af9236a6751f",
   "metadata": {},
   "outputs": [
    {
     "data": {
      "text/html": [
       "<div>\n",
       "<style scoped>\n",
       "    .dataframe tbody tr th:only-of-type {\n",
       "        vertical-align: middle;\n",
       "    }\n",
       "\n",
       "    .dataframe tbody tr th {\n",
       "        vertical-align: top;\n",
       "    }\n",
       "\n",
       "    .dataframe thead th {\n",
       "        text-align: right;\n",
       "    }\n",
       "</style>\n",
       "<table border=\"1\" class=\"dataframe\">\n",
       "  <thead>\n",
       "    <tr style=\"text-align: right;\">\n",
       "      <th></th>\n",
       "      <th>subject</th>\n",
       "      <th>timepoint</th>\n",
       "      <th>event</th>\n",
       "      <th>region</th>\n",
       "      <th>signal</th>\n",
       "    </tr>\n",
       "  </thead>\n",
       "  <tbody>\n",
       "    <tr>\n",
       "      <th>0</th>\n",
       "      <td>s13</td>\n",
       "      <td>18</td>\n",
       "      <td>stim</td>\n",
       "      <td>parietal</td>\n",
       "      <td>-0.017552</td>\n",
       "    </tr>\n",
       "    <tr>\n",
       "      <th>1</th>\n",
       "      <td>s5</td>\n",
       "      <td>14</td>\n",
       "      <td>stim</td>\n",
       "      <td>parietal</td>\n",
       "      <td>-0.080883</td>\n",
       "    </tr>\n",
       "    <tr>\n",
       "      <th>2</th>\n",
       "      <td>s12</td>\n",
       "      <td>18</td>\n",
       "      <td>stim</td>\n",
       "      <td>parietal</td>\n",
       "      <td>-0.081033</td>\n",
       "    </tr>\n",
       "    <tr>\n",
       "      <th>3</th>\n",
       "      <td>s11</td>\n",
       "      <td>18</td>\n",
       "      <td>stim</td>\n",
       "      <td>parietal</td>\n",
       "      <td>-0.046134</td>\n",
       "    </tr>\n",
       "    <tr>\n",
       "      <th>4</th>\n",
       "      <td>s10</td>\n",
       "      <td>18</td>\n",
       "      <td>stim</td>\n",
       "      <td>parietal</td>\n",
       "      <td>-0.037970</td>\n",
       "    </tr>\n",
       "    <tr>\n",
       "      <th>...</th>\n",
       "      <td>...</td>\n",
       "      <td>...</td>\n",
       "      <td>...</td>\n",
       "      <td>...</td>\n",
       "      <td>...</td>\n",
       "    </tr>\n",
       "    <tr>\n",
       "      <th>1059</th>\n",
       "      <td>s0</td>\n",
       "      <td>8</td>\n",
       "      <td>cue</td>\n",
       "      <td>frontal</td>\n",
       "      <td>0.018165</td>\n",
       "    </tr>\n",
       "    <tr>\n",
       "      <th>1060</th>\n",
       "      <td>s13</td>\n",
       "      <td>7</td>\n",
       "      <td>cue</td>\n",
       "      <td>frontal</td>\n",
       "      <td>-0.029130</td>\n",
       "    </tr>\n",
       "    <tr>\n",
       "      <th>1061</th>\n",
       "      <td>s12</td>\n",
       "      <td>7</td>\n",
       "      <td>cue</td>\n",
       "      <td>frontal</td>\n",
       "      <td>-0.004939</td>\n",
       "    </tr>\n",
       "    <tr>\n",
       "      <th>1062</th>\n",
       "      <td>s11</td>\n",
       "      <td>7</td>\n",
       "      <td>cue</td>\n",
       "      <td>frontal</td>\n",
       "      <td>-0.025367</td>\n",
       "    </tr>\n",
       "    <tr>\n",
       "      <th>1063</th>\n",
       "      <td>s0</td>\n",
       "      <td>0</td>\n",
       "      <td>cue</td>\n",
       "      <td>parietal</td>\n",
       "      <td>-0.006899</td>\n",
       "    </tr>\n",
       "  </tbody>\n",
       "</table>\n",
       "<p>1064 rows × 5 columns</p>\n",
       "</div>"
      ],
      "text/plain": [
       "     subject  timepoint event    region    signal\n",
       "0        s13         18  stim  parietal -0.017552\n",
       "1         s5         14  stim  parietal -0.080883\n",
       "2        s12         18  stim  parietal -0.081033\n",
       "3        s11         18  stim  parietal -0.046134\n",
       "4        s10         18  stim  parietal -0.037970\n",
       "...      ...        ...   ...       ...       ...\n",
       "1059      s0          8   cue   frontal  0.018165\n",
       "1060     s13          7   cue   frontal -0.029130\n",
       "1061     s12          7   cue   frontal -0.004939\n",
       "1062     s11          7   cue   frontal -0.025367\n",
       "1063      s0          0   cue  parietal -0.006899\n",
       "\n",
       "[1064 rows x 5 columns]"
      ]
     },
     "execution_count": 60,
     "metadata": {},
     "output_type": "execute_result"
    }
   ],
   "source": [
    "import seaborn as sns\n",
    "sns.set_theme(style=\"darkgrid\")\n",
    "\n",
    "# Load an example dataset with long-form data\n",
    "fmri = sns.load_dataset(\"fmri\")\n",
    "fmri"
   ]
  },
  {
   "cell_type": "code",
   "execution_count": null,
   "id": "bb76154d-9f37-4f0a-b473-248b5d66fe98",
   "metadata": {},
   "outputs": [],
   "source": []
  }
 ],
 "metadata": {
  "kernelspec": {
   "display_name": "Python 3 (ipykernel)",
   "language": "python",
   "name": "python3"
  },
  "language_info": {
   "codemirror_mode": {
    "name": "ipython",
    "version": 3
   },
   "file_extension": ".py",
   "mimetype": "text/x-python",
   "name": "python",
   "nbconvert_exporter": "python",
   "pygments_lexer": "ipython3",
   "version": "3.9.7"
  }
 },
 "nbformat": 4,
 "nbformat_minor": 5
}
